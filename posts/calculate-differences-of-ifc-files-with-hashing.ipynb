{
 "cells": [
  {
   "cell_type": "markdown",
   "metadata": {},
   "source": [
    "## Purpose"
   ]
  },
  {
   "cell_type": "markdown",
   "metadata": {},
   "source": [
    "The goal of this tutorial is to learn how to asses whether 2 successively exported IFC building models are different by testing whether entity instances of the latest are present in the original one or entity instances of the original one are present in the latest version. \n",
    "\n",
    "The data is stored using the Industry Foundation Class (IFC) format, which is the standard format to digitally represent anything related to the construction industry. This format stands as an open-standard, and enables to share building models in form of IFC files between the different actors of a construction project. We can think of IFC as the PDF for the construction industry.\n",
    "\n",
    "For example, how could you find the difference between those 2 files?<!-- TEASER_END -->"
   ]
  },
  {
   "cell_type": "markdown",
   "metadata": {},
   "source": [
    "![find_diff.png](../images/find_diff.png)"
   ]
  },
  {
   "cell_type": "markdown",
   "metadata": {},
   "source": [
    "Or even those ones, which are simpler."
   ]
  },
  {
   "cell_type": "markdown",
   "metadata": {},
   "source": [
    "![min_diff.jpg](../images/min_diff.jpg)"
   ]
  },
  {
   "cell_type": "markdown",
   "metadata": {},
   "source": [
    "#### But first, why would we want to compare two IFC files?\n",
    "\n",
    "IFC files allow actors involved in a construction project to store an engineering model of the elements that form the building or the infrastructure modeled. In order to rely on this model, the data should be accurate or at least verifiable. Indeed, the models are not carved in stone and will know many changes throughout the building lifecycle, from the pre-design phase to the renovation or demolition phases.\n",
    "\n",
    "It is therefore essential to provide software programs that let the users know whether they are receiving a newer version from their local copy, to be able to assess quantitatively and qualitatively the differences that have been introduced.\n",
    "\n",
    "Given the complexity of a construction project in terms of the diversity of domains, the resulting number of actors, and some additional stakeholders, storing satisfying data for all in discipline related files is the daunting task IFC is trying to achieve.\n",
    "\n",
    "Indeed, IFC files can become rather large and it is advised to use clever ways to process its data. The processing in question in this tutorial is to spot the differences among entity instances between two IFC files.\n",
    "\n",
    "Before diving in, let's review quickly some of the intricacies of the IFC format. "
   ]
  },
  {
   "cell_type": "markdown",
   "metadata": {},
   "source": [
    "### Background on the IFC format and comparison strategy"
   ]
  },
  {
   "cell_type": "markdown",
   "metadata": {},
   "source": [
    "The IFC format defines a data schema divided into resources block. For each block, IFC entity types enable to model different elements. Those elements get an \"Ifc\" prefix and can be for example IfcWall, IfcSlab, IfcPropertySet, IfcRelDefinesByProperty, IfcRepresentation...\n",
    "\n",
    "Whithin the data schema, which is object-oriented, there is a hierarchy between entity types, involving abstract entity types. For example, the IfcBuildingElement is an abstract entity type."
   ]
  },
  {
   "cell_type": "markdown",
   "metadata": {},
   "source": [
    "For example the defiinition of the IfcBuildingElement entity type is given below (source: http://standards.buildingsmart.org/MVD/RELEASE/IFC4/ADD2_TC1/RV1_2/HTML/schema/ifcproductextension/lexical/ifcbuildingelement.htm)\n",
    "\n",
    "\n",
    "The building element comprises all elements that are primarily part of the construction of a building, i.e., its structural and space separating system. Building elements are all physically existent and tangible things\n",
    "\n",
    "    NOTE  Definition from ISO 6707-1:\n",
    "    Major functional part of a building, examples are foundation, floor, roof, wall."
   ]
  },
  {
   "cell_type": "markdown",
   "metadata": {},
   "source": [
    "![ifc_schema.png](../images/ifc_schema.png)"
   ]
  },
  {
   "cell_type": "markdown",
   "metadata": {},
   "source": [
    "The above diagram is an example of the inheritance links existing in the IFC data schema.\n",
    "\n",
    "Moreover, an IFC file uses the entity types of the IFC schema with it own hierarchy.\n",
    "It means the IFC instances implemented, like the 4 IfcWall instances of a very simple house, have relationships with other IFC instances. For example, the IfcWall instances are contained in an IfcBuildingStorey instance, itself contained in a IfcBuilding instance, itself contained in a Ifcsite instance, and itself eventually contained in an IfcProject instance. In addition, for example, the attributes of an IfcWall are often grouped in IfcPropertySet instances, which are for example related by an IfcRelDefinesByProperty instance. Relationships betweem instances are also objectified: they are also represented by IFC instances. "
   ]
  },
  {
   "cell_type": "markdown",
   "metadata": {},
   "source": [
    "## Download resources from the web"
   ]
  },
  {
   "cell_type": "markdown",
   "metadata": {},
   "source": [
    "Let's import the ifcopenshell python package and the IFC Duplex file.  "
   ]
  },
  {
   "cell_type": "markdown",
   "metadata": {},
   "source": [
    "### Download ifcopenshell-python"
   ]
  },
  {
   "cell_type": "code",
   "execution_count": 5,
   "metadata": {},
   "outputs": [
    {
     "ename": "KeyboardInterrupt",
     "evalue": "",
     "output_type": "error",
     "traceback": [
      "\u001b[0;31m---------------------------------------------------------------------------\u001b[0m",
      "\u001b[0;31mKeyboardInterrupt\u001b[0m                         Traceback (most recent call last)",
      "Cell \u001b[0;32mIn[5], line 4\u001b[0m\n\u001b[1;32m      2\u001b[0m url \u001b[38;5;241m=\u001b[39m \u001b[38;5;124m'\u001b[39m\u001b[38;5;124mhttps://s3.amazonaws.com/ifcopenshell-builds/ifcopenshell-python-36-v0.6.0-0d93633-linux64.zip\u001b[39m\u001b[38;5;124m'\u001b[39m\n\u001b[1;32m      3\u001b[0m filename \u001b[38;5;241m=\u001b[39m \u001b[38;5;124m'\u001b[39m\u001b[38;5;124mifcopenshell.zip\u001b[39m\u001b[38;5;124m'\u001b[39m\n\u001b[0;32m----> 4\u001b[0m \u001b[43murllib\u001b[49m\u001b[38;5;241;43m.\u001b[39;49m\u001b[43mrequest\u001b[49m\u001b[38;5;241;43m.\u001b[39;49m\u001b[43murlretrieve\u001b[49m\u001b[43m(\u001b[49m\u001b[43murl\u001b[49m\u001b[43m,\u001b[49m\u001b[43m \u001b[49m\u001b[43mfilename\u001b[49m\u001b[43m)\u001b[49m\n",
      "File \u001b[0;32m/Library/Developer/CommandLineTools/Library/Frameworks/Python3.framework/Versions/3.9/lib/python3.9/urllib/request.py:268\u001b[0m, in \u001b[0;36murlretrieve\u001b[0;34m(url, filename, reporthook, data)\u001b[0m\n\u001b[1;32m    265\u001b[0m     reporthook(blocknum, bs, size)\n\u001b[1;32m    267\u001b[0m \u001b[38;5;28;01mwhile\u001b[39;00m \u001b[38;5;28;01mTrue\u001b[39;00m:\n\u001b[0;32m--> 268\u001b[0m     block \u001b[38;5;241m=\u001b[39m \u001b[43mfp\u001b[49m\u001b[38;5;241;43m.\u001b[39;49m\u001b[43mread\u001b[49m\u001b[43m(\u001b[49m\u001b[43mbs\u001b[49m\u001b[43m)\u001b[49m\n\u001b[1;32m    269\u001b[0m     \u001b[38;5;28;01mif\u001b[39;00m \u001b[38;5;129;01mnot\u001b[39;00m block:\n\u001b[1;32m    270\u001b[0m         \u001b[38;5;28;01mbreak\u001b[39;00m\n",
      "File \u001b[0;32m/Library/Developer/CommandLineTools/Library/Frameworks/Python3.framework/Versions/3.9/lib/python3.9/http/client.py:459\u001b[0m, in \u001b[0;36mHTTPResponse.read\u001b[0;34m(self, amt)\u001b[0m\n\u001b[1;32m    456\u001b[0m \u001b[38;5;28;01mif\u001b[39;00m amt \u001b[38;5;129;01mis\u001b[39;00m \u001b[38;5;129;01mnot\u001b[39;00m \u001b[38;5;28;01mNone\u001b[39;00m:\n\u001b[1;32m    457\u001b[0m     \u001b[38;5;66;03m# Amount is given, implement using readinto\u001b[39;00m\n\u001b[1;32m    458\u001b[0m     b \u001b[38;5;241m=\u001b[39m \u001b[38;5;28mbytearray\u001b[39m(amt)\n\u001b[0;32m--> 459\u001b[0m     n \u001b[38;5;241m=\u001b[39m \u001b[38;5;28;43mself\u001b[39;49m\u001b[38;5;241;43m.\u001b[39;49m\u001b[43mreadinto\u001b[49m\u001b[43m(\u001b[49m\u001b[43mb\u001b[49m\u001b[43m)\u001b[49m\n\u001b[1;32m    460\u001b[0m     \u001b[38;5;28;01mreturn\u001b[39;00m \u001b[38;5;28mmemoryview\u001b[39m(b)[:n]\u001b[38;5;241m.\u001b[39mtobytes()\n\u001b[1;32m    461\u001b[0m \u001b[38;5;28;01melse\u001b[39;00m:\n\u001b[1;32m    462\u001b[0m     \u001b[38;5;66;03m# Amount is not given (unbounded read) so we must check self.length\u001b[39;00m\n\u001b[1;32m    463\u001b[0m     \u001b[38;5;66;03m# and self.chunked\u001b[39;00m\n",
      "File \u001b[0;32m/Library/Developer/CommandLineTools/Library/Frameworks/Python3.framework/Versions/3.9/lib/python3.9/http/client.py:503\u001b[0m, in \u001b[0;36mHTTPResponse.readinto\u001b[0;34m(self, b)\u001b[0m\n\u001b[1;32m    498\u001b[0m         b \u001b[38;5;241m=\u001b[39m \u001b[38;5;28mmemoryview\u001b[39m(b)[\u001b[38;5;241m0\u001b[39m:\u001b[38;5;28mself\u001b[39m\u001b[38;5;241m.\u001b[39mlength]\n\u001b[1;32m    500\u001b[0m \u001b[38;5;66;03m# we do not use _safe_read() here because this may be a .will_close\u001b[39;00m\n\u001b[1;32m    501\u001b[0m \u001b[38;5;66;03m# connection, and the user is reading more bytes than will be provided\u001b[39;00m\n\u001b[1;32m    502\u001b[0m \u001b[38;5;66;03m# (for example, reading in 1k chunks)\u001b[39;00m\n\u001b[0;32m--> 503\u001b[0m n \u001b[38;5;241m=\u001b[39m \u001b[38;5;28;43mself\u001b[39;49m\u001b[38;5;241;43m.\u001b[39;49m\u001b[43mfp\u001b[49m\u001b[38;5;241;43m.\u001b[39;49m\u001b[43mreadinto\u001b[49m\u001b[43m(\u001b[49m\u001b[43mb\u001b[49m\u001b[43m)\u001b[49m\n\u001b[1;32m    504\u001b[0m \u001b[38;5;28;01mif\u001b[39;00m \u001b[38;5;129;01mnot\u001b[39;00m n \u001b[38;5;129;01mand\u001b[39;00m b:\n\u001b[1;32m    505\u001b[0m     \u001b[38;5;66;03m# Ideally, we would raise IncompleteRead if the content-length\u001b[39;00m\n\u001b[1;32m    506\u001b[0m     \u001b[38;5;66;03m# wasn't satisfied, but it might break compatibility.\u001b[39;00m\n\u001b[1;32m    507\u001b[0m     \u001b[38;5;28mself\u001b[39m\u001b[38;5;241m.\u001b[39m_close_conn()\n",
      "File \u001b[0;32m/Library/Developer/CommandLineTools/Library/Frameworks/Python3.framework/Versions/3.9/lib/python3.9/socket.py:704\u001b[0m, in \u001b[0;36mSocketIO.readinto\u001b[0;34m(self, b)\u001b[0m\n\u001b[1;32m    702\u001b[0m \u001b[38;5;28;01mwhile\u001b[39;00m \u001b[38;5;28;01mTrue\u001b[39;00m:\n\u001b[1;32m    703\u001b[0m     \u001b[38;5;28;01mtry\u001b[39;00m:\n\u001b[0;32m--> 704\u001b[0m         \u001b[38;5;28;01mreturn\u001b[39;00m \u001b[38;5;28;43mself\u001b[39;49m\u001b[38;5;241;43m.\u001b[39;49m\u001b[43m_sock\u001b[49m\u001b[38;5;241;43m.\u001b[39;49m\u001b[43mrecv_into\u001b[49m\u001b[43m(\u001b[49m\u001b[43mb\u001b[49m\u001b[43m)\u001b[49m\n\u001b[1;32m    705\u001b[0m     \u001b[38;5;28;01mexcept\u001b[39;00m timeout:\n\u001b[1;32m    706\u001b[0m         \u001b[38;5;28mself\u001b[39m\u001b[38;5;241m.\u001b[39m_timeout_occurred \u001b[38;5;241m=\u001b[39m \u001b[38;5;28;01mTrue\u001b[39;00m\n",
      "File \u001b[0;32m/Library/Developer/CommandLineTools/Library/Frameworks/Python3.framework/Versions/3.9/lib/python3.9/ssl.py:1241\u001b[0m, in \u001b[0;36mSSLSocket.recv_into\u001b[0;34m(self, buffer, nbytes, flags)\u001b[0m\n\u001b[1;32m   1237\u001b[0m     \u001b[38;5;28;01mif\u001b[39;00m flags \u001b[38;5;241m!=\u001b[39m \u001b[38;5;241m0\u001b[39m:\n\u001b[1;32m   1238\u001b[0m         \u001b[38;5;28;01mraise\u001b[39;00m \u001b[38;5;167;01mValueError\u001b[39;00m(\n\u001b[1;32m   1239\u001b[0m           \u001b[38;5;124m\"\u001b[39m\u001b[38;5;124mnon-zero flags not allowed in calls to recv_into() on \u001b[39m\u001b[38;5;132;01m%s\u001b[39;00m\u001b[38;5;124m\"\u001b[39m \u001b[38;5;241m%\u001b[39m\n\u001b[1;32m   1240\u001b[0m           \u001b[38;5;28mself\u001b[39m\u001b[38;5;241m.\u001b[39m\u001b[38;5;18m__class__\u001b[39m)\n\u001b[0;32m-> 1241\u001b[0m     \u001b[38;5;28;01mreturn\u001b[39;00m \u001b[38;5;28;43mself\u001b[39;49m\u001b[38;5;241;43m.\u001b[39;49m\u001b[43mread\u001b[49m\u001b[43m(\u001b[49m\u001b[43mnbytes\u001b[49m\u001b[43m,\u001b[49m\u001b[43m \u001b[49m\u001b[43mbuffer\u001b[49m\u001b[43m)\u001b[49m\n\u001b[1;32m   1242\u001b[0m \u001b[38;5;28;01melse\u001b[39;00m:\n\u001b[1;32m   1243\u001b[0m     \u001b[38;5;28;01mreturn\u001b[39;00m \u001b[38;5;28msuper\u001b[39m()\u001b[38;5;241m.\u001b[39mrecv_into(buffer, nbytes, flags)\n",
      "File \u001b[0;32m/Library/Developer/CommandLineTools/Library/Frameworks/Python3.framework/Versions/3.9/lib/python3.9/ssl.py:1099\u001b[0m, in \u001b[0;36mSSLSocket.read\u001b[0;34m(self, len, buffer)\u001b[0m\n\u001b[1;32m   1097\u001b[0m \u001b[38;5;28;01mtry\u001b[39;00m:\n\u001b[1;32m   1098\u001b[0m     \u001b[38;5;28;01mif\u001b[39;00m buffer \u001b[38;5;129;01mis\u001b[39;00m \u001b[38;5;129;01mnot\u001b[39;00m \u001b[38;5;28;01mNone\u001b[39;00m:\n\u001b[0;32m-> 1099\u001b[0m         \u001b[38;5;28;01mreturn\u001b[39;00m \u001b[38;5;28;43mself\u001b[39;49m\u001b[38;5;241;43m.\u001b[39;49m\u001b[43m_sslobj\u001b[49m\u001b[38;5;241;43m.\u001b[39;49m\u001b[43mread\u001b[49m\u001b[43m(\u001b[49m\u001b[38;5;28;43mlen\u001b[39;49m\u001b[43m,\u001b[49m\u001b[43m \u001b[49m\u001b[43mbuffer\u001b[49m\u001b[43m)\u001b[49m\n\u001b[1;32m   1100\u001b[0m     \u001b[38;5;28;01melse\u001b[39;00m:\n\u001b[1;32m   1101\u001b[0m         \u001b[38;5;28;01mreturn\u001b[39;00m \u001b[38;5;28mself\u001b[39m\u001b[38;5;241m.\u001b[39m_sslobj\u001b[38;5;241m.\u001b[39mread(\u001b[38;5;28mlen\u001b[39m)\n",
      "\u001b[0;31mKeyboardInterrupt\u001b[0m: "
     ]
    }
   ],
   "source": [
    "import urllib.request\n",
    "url = 'https://s3.amazonaws.com/ifcopenshell-builds/ifcopenshell-python-36-v0.6.0-0d93633-linux64.zip'\n",
    "filename = 'ifcopenshell.zip'\n",
    "urllib.request.urlretrieve(url, filename)"
   ]
  },
  {
   "cell_type": "code",
   "execution_count": null,
   "metadata": {},
   "outputs": [],
   "source": [
    "import zipfile\n",
    "with zipfile.ZipFile('ifcopenshell.zip', 'r') as zip_ref:\n",
    "    zip_ref.extractall('ifcopenshell')"
   ]
  },
  {
   "cell_type": "markdown",
   "metadata": {},
   "source": [
    "### Download an IFC file"
   ]
  },
  {
   "cell_type": "code",
   "execution_count": null,
   "metadata": {},
   "outputs": [
    {
     "data": {
      "text/plain": [
       "('Duplex_files.zip', <http.client.HTTPMessage at 0x104dea6a0>)"
      ]
     },
     "execution_count": 3,
     "metadata": {},
     "output_type": "execute_result"
    }
   ],
   "source": [
    "import urllib.request\n",
    "url = 'http://openifcmodel.cs.auckland.ac.nz/_models/030811DuplexModel-IFC-2011-05-05.zip'\n",
    "filename = 'Duplex_files.zip'\n",
    "urllib.request.urlretrieve(url, filename)"
   ]
  },
  {
   "cell_type": "code",
   "execution_count": null,
   "metadata": {},
   "outputs": [
    {
     "ename": "BadZipFile",
     "evalue": "File is not a zip file",
     "output_type": "error",
     "traceback": [
      "\u001b[0;31m---------------------------------------------------------------------------\u001b[0m",
      "\u001b[0;31mBadZipFile\u001b[0m                                Traceback (most recent call last)",
      "Cell \u001b[0;32mIn[4], line 2\u001b[0m\n\u001b[1;32m      1\u001b[0m \u001b[38;5;28;01mimport\u001b[39;00m \u001b[38;5;21;01mzipfile\u001b[39;00m\n\u001b[0;32m----> 2\u001b[0m \u001b[38;5;28;01mwith\u001b[39;00m \u001b[43mzipfile\u001b[49m\u001b[38;5;241;43m.\u001b[39;49m\u001b[43mZipFile\u001b[49m\u001b[43m(\u001b[49m\u001b[38;5;124;43m'\u001b[39;49m\u001b[38;5;124;43mDuplex_files.zip\u001b[39;49m\u001b[38;5;124;43m'\u001b[39;49m\u001b[43m,\u001b[49m\u001b[43m \u001b[49m\u001b[38;5;124;43m'\u001b[39;49m\u001b[38;5;124;43mr\u001b[39;49m\u001b[38;5;124;43m'\u001b[39;49m\u001b[43m)\u001b[49m \u001b[38;5;28;01mas\u001b[39;00m zip_ref:\n\u001b[1;32m      3\u001b[0m     zip_ref\u001b[38;5;241m.\u001b[39mextractall(\u001b[38;5;124m'\u001b[39m\u001b[38;5;124mDuplex\u001b[39m\u001b[38;5;124m'\u001b[39m)\n",
      "File \u001b[0;32m/Library/Developer/CommandLineTools/Library/Frameworks/Python3.framework/Versions/3.9/lib/python3.9/zipfile.py:1257\u001b[0m, in \u001b[0;36mZipFile.__init__\u001b[0;34m(self, file, mode, compression, allowZip64, compresslevel, strict_timestamps)\u001b[0m\n\u001b[1;32m   1255\u001b[0m \u001b[38;5;28;01mtry\u001b[39;00m:\n\u001b[1;32m   1256\u001b[0m     \u001b[38;5;28;01mif\u001b[39;00m mode \u001b[38;5;241m==\u001b[39m \u001b[38;5;124m'\u001b[39m\u001b[38;5;124mr\u001b[39m\u001b[38;5;124m'\u001b[39m:\n\u001b[0;32m-> 1257\u001b[0m         \u001b[38;5;28;43mself\u001b[39;49m\u001b[38;5;241;43m.\u001b[39;49m\u001b[43m_RealGetContents\u001b[49m\u001b[43m(\u001b[49m\u001b[43m)\u001b[49m\n\u001b[1;32m   1258\u001b[0m     \u001b[38;5;28;01melif\u001b[39;00m mode \u001b[38;5;129;01min\u001b[39;00m (\u001b[38;5;124m'\u001b[39m\u001b[38;5;124mw\u001b[39m\u001b[38;5;124m'\u001b[39m, \u001b[38;5;124m'\u001b[39m\u001b[38;5;124mx\u001b[39m\u001b[38;5;124m'\u001b[39m):\n\u001b[1;32m   1259\u001b[0m         \u001b[38;5;66;03m# set the modified flag so central directory gets written\u001b[39;00m\n\u001b[1;32m   1260\u001b[0m         \u001b[38;5;66;03m# even if no files are added to the archive\u001b[39;00m\n\u001b[1;32m   1261\u001b[0m         \u001b[38;5;28mself\u001b[39m\u001b[38;5;241m.\u001b[39m_didModify \u001b[38;5;241m=\u001b[39m \u001b[38;5;28;01mTrue\u001b[39;00m\n",
      "File \u001b[0;32m/Library/Developer/CommandLineTools/Library/Frameworks/Python3.framework/Versions/3.9/lib/python3.9/zipfile.py:1324\u001b[0m, in \u001b[0;36mZipFile._RealGetContents\u001b[0;34m(self)\u001b[0m\n\u001b[1;32m   1322\u001b[0m     \u001b[38;5;28;01mraise\u001b[39;00m BadZipFile(\u001b[38;5;124m\"\u001b[39m\u001b[38;5;124mFile is not a zip file\u001b[39m\u001b[38;5;124m\"\u001b[39m)\n\u001b[1;32m   1323\u001b[0m \u001b[38;5;28;01mif\u001b[39;00m \u001b[38;5;129;01mnot\u001b[39;00m endrec:\n\u001b[0;32m-> 1324\u001b[0m     \u001b[38;5;28;01mraise\u001b[39;00m BadZipFile(\u001b[38;5;124m\"\u001b[39m\u001b[38;5;124mFile is not a zip file\u001b[39m\u001b[38;5;124m\"\u001b[39m)\n\u001b[1;32m   1325\u001b[0m \u001b[38;5;28;01mif\u001b[39;00m \u001b[38;5;28mself\u001b[39m\u001b[38;5;241m.\u001b[39mdebug \u001b[38;5;241m>\u001b[39m \u001b[38;5;241m1\u001b[39m:\n\u001b[1;32m   1326\u001b[0m     \u001b[38;5;28mprint\u001b[39m(endrec)\n",
      "\u001b[0;31mBadZipFile\u001b[0m: File is not a zip file"
     ]
    }
   ],
   "source": [
    "import zipfile\n",
    "with zipfile.ZipFile('Duplex_files.zip', 'r') as zip_ref:\n",
    "    zip_ref.extractall('Duplex')"
   ]
  },
  {
   "cell_type": "markdown",
   "metadata": {},
   "source": [
    "## Getting started"
   ]
  },
  {
   "cell_type": "markdown",
   "metadata": {},
   "source": [
    "Once we've downloaded the resources, we can get started and import the main libraries we'll be using."
   ]
  },
  {
   "cell_type": "code",
   "execution_count": null,
   "metadata": {},
   "outputs": [],
   "source": [
    "import json\n",
    "import math\n",
    "import sys\n",
    "import random"
   ]
  },
  {
   "cell_type": "code",
   "execution_count": null,
   "metadata": {},
   "outputs": [],
   "source": [
    "import ifcopenshell\n",
    "import ifcopenshell.geom \n",
    "\n",
    "import OCC \n",
    "import OCC.BRepTools"
   ]
  },
  {
   "cell_type": "markdown",
   "metadata": {},
   "source": [
    "We can open the IFC file we've dowloaded. "
   ]
  },
  {
   "cell_type": "code",
   "execution_count": null,
   "metadata": {},
   "outputs": [],
   "source": [
    "file = ifcopenshell.open('Duplex/Duplex_A_20110505.ifc')"
   ]
  },
  {
   "cell_type": "markdown",
   "metadata": {},
   "source": [
    "And get the IfcBuildingElement entitity instances in a `building_elements` variable."
   ]
  },
  {
   "cell_type": "code",
   "execution_count": null,
   "metadata": {},
   "outputs": [],
   "source": [
    "building_elements = file.by_type(\"IfcBuildingElement\")"
   ]
  },
  {
   "cell_type": "markdown",
   "metadata": {},
   "source": [
    " Let's take 2 random entity instances to compare them."
   ]
  },
  {
   "cell_type": "code",
   "execution_count": null,
   "metadata": {},
   "outputs": [],
   "source": [
    "random_entity1 = building_elements[4]\n",
    "random_entity2 = building_elements[5]"
   ]
  },
  {
   "cell_type": "markdown",
   "metadata": {},
   "source": [
    "Get the information of the instances. Generally speaking, this information as it is returned gives describes an instance, regarding to its physical placement, its geometry representation, and any other attached piece of information."
   ]
  },
  {
   "cell_type": "code",
   "execution_count": null,
   "metadata": {},
   "outputs": [],
   "source": [
    "info1 = random_entity1.get_info(recursive=True, include_identifier=False, ignore={\"GlobalId\", \"OwnerHistory\"})\n",
    "info2 = random_entity2.get_info(recursive=True, include_identifier=False, ignore={\"GlobalId\", \"OwnerHistory\"})\n",
    "\n",
    "info3 = info1"
   ]
  },
  {
   "cell_type": "markdown",
   "metadata": {},
   "source": [
    "Let's pretty print the information of and an entity instance."
   ]
  },
  {
   "cell_type": "code",
   "execution_count": null,
   "metadata": {},
   "outputs": [
    {
     "data": {
      "text/html": [
       "<pre style='white-space:pre;font-size:10px;line-height:14px'>{'Description': None,\n",
       " 'Name': 'Basic Wall:Interior - Partition (92mm Stud):139783',\n",
       " 'ObjectPlacement': {'PlacementRelTo': {'PlacementRelTo': {'PlacementRelTo': {'PlacementRelTo': None,\n",
       "                                                                              'RelativePlacement': {'Axis': None,\n",
       "                                                                                                    'Location': {'Coordinates': (0.0,\n",
       "                                                                                                                                 0.0,\n",
       "                                                                                                                                 0.0),\n",
       "                                                                                                                 'type': 'IfcCartesianPoint'},\n",
       "                                                                                                    'RefDirection': None,\n",
       "                                                                                                    'type': 'IfcAxis2Placement3D'},\n",
       "                                                                              'type': 'IfcLocalPlacement'},\n",
       "                                                           'RelativePlacement': {'Axis': None,\n",
       "                                                                                 'Location': {'Coordinates': (0.0,\n",
       "                                                                                                              0.0,\n",
       "                                                                                                              0.0),\n",
       "                                                                                              'type': 'IfcCartesianPoint'},\n",
       "                                                                                 'RefDirection': None,\n",
       "                                                                                 'type': 'IfcAxis2Placement3D'},\n",
       "                                                           'type': 'IfcLocalPlacement'},\n",
       "                                        'RelativePlacement': {'Axis': None,\n",
       "                                                              'Location': {'Coordinates': (0.0,\n",
       "                                                                                           0.0,\n",
       "                                                                                           0.0),\n",
       "                                                                           'type': 'IfcCartesianPoint'},\n",
       "                                                              'RefDirection': None,\n",
       "                                                              'type': 'IfcAxis2Placement3D'},\n",
       "                                        'type': 'IfcLocalPlacement'},\n",
       "                     'RelativePlacement': {'Axis': None,\n",
       "                                           'Location': {'Coordinates': (4.769999999999999,\n",
       "                                                                        -10.30800000000003,\n",
       "                                                                        0.0),\n",
       "                                                        'type': 'IfcCartesianPoint'},\n",
       "                                           'RefDirection': None,\n",
       "                                           'type': 'IfcAxis2Placement3D'},\n",
       "                     'type': 'IfcLocalPlacement'},\n",
       " 'ObjectType': 'Basic Wall:Interior - Partition (92mm Stud):128360',\n",
       " 'Representation': {'Description': None,\n",
       "                    'Name': None,\n",
       "                    'Representations': ({'ContextOfItems': {'ContextIdentifier': None,\n",
       "                                                            'ContextType': 'Model',\n",
       "                                                            'CoordinateSpaceDimension': 3,\n",
       "                                                            'Precision': 1e-09,\n",
       "                                                            'TrueNorth': None,\n",
       "                                                            'WorldCoordinateSystem': {'Axis': None,\n",
       "                                                                                      'Location': {'Coordinates': (0.0,\n",
       "                                                                                                                   0.0,\n",
       "                                                                                                                   0.0),\n",
       "                                                                                                   'type': 'IfcCartesianPoint'},\n",
       "                                                                                      'RefDirection': None,\n",
       "                                                                                      'type': 'IfcAxis2Placement3D'},\n",
       "                                                            'type': 'IfcGeometricRepresentationContext'},\n",
       "                                         'Items': ({'Points': ({'Coordinates': (0.0,\n",
       "                                                                                0.0),\n",
       "                                                                'type': 'IfcCartesianPoint'},\n",
       "                                                               {'Coordinates': (1.456000000000001,\n",
       "                                                                                0.0),\n",
       "                                                                'type': 'IfcCartesianPoint'}),\n",
       "                                                    'type': 'IfcPolyline'},),\n",
       "                                         'RepresentationIdentifier': 'Axis',\n",
       "                                         'RepresentationType': 'Curve2D',\n",
       "                                         'type': 'IfcShapeRepresentation'},\n",
       "                                        {'ContextOfItems': {'ContextIdentifier': None,\n",
       "                                                            'ContextType': 'Model',\n",
       "                                                            'CoordinateSpaceDimension': 3,\n",
       "                                                            'Precision': 1e-09,\n",
       "                                                            'TrueNorth': None,\n",
       "                                                            'WorldCoordinateSystem': {'Axis': None,\n",
       "                                                                                      'Location': {'Coordinates': (0.0,\n",
       "                                                                                                                   0.0,\n",
       "                                                                                                                   0.0),\n",
       "                                                                                                   'type': 'IfcCartesianPoint'},\n",
       "                                                                                      'RefDirection': None,\n",
       "                                                                                      'type': 'IfcAxis2Placement3D'},\n",
       "                                                            'type': 'IfcGeometricRepresentationContext'},\n",
       "                                         'Items': ({'Depth': 2.795000000000196,\n",
       "                                                    'ExtrudedDirection': {'DirectionRatios': (0.0,\n",
       "                                                                                              0.0,\n",
       "                                                                                              1.0),\n",
       "                                                                          'type': 'IfcDirection'},\n",
       "                                                    'Position': {'Axis': None,\n",
       "                                                                 'Location': {'Coordinates': (0.0,\n",
       "                                                                                              0.0,\n",
       "                                                                                              0.0),\n",
       "                                                                              'type': 'IfcCartesianPoint'},\n",
       "                                                                 'RefDirection': None,\n",
       "                                                                 'type': 'IfcAxis2Placement3D'},\n",
       "                                                    'SweptArea': {'Position': {'Location': {'Coordinates': (0.7280000000000004,\n",
       "                                                                                                            -0.0),\n",
       "                                                                                            'type': 'IfcCartesianPoint'},\n",
       "                                                                               'RefDirection': {'DirectionRatios': (-1.0,\n",
       "                                                                                                                    0.0),\n",
       "                                                                                                'type': 'IfcDirection'},\n",
       "                                                                               'type': 'IfcAxis2Placement2D'},\n",
       "                                                                  'ProfileName': None,\n",
       "                                                                  'ProfileType': 'AREA',\n",
       "                                                                  'XDim': 1.456000000000001,\n",
       "                                                                  'YDim': 0.1240000000000021,\n",
       "                                                                  'type': 'IfcRectangleProfileDef'},\n",
       "                                                    'type': 'IfcExtrudedAreaSolid'},),\n",
       "                                         'RepresentationIdentifier': 'Body',\n",
       "                                         'RepresentationType': 'SweptSolid',\n",
       "                                         'type': 'IfcShapeRepresentation'}),\n",
       "                    'type': 'IfcProductDefinitionShape'},\n",
       " 'Tag': '139783',\n",
       " 'type': 'IfcWallStandardCase'}</pre>"
      ],
      "text/plain": [
       "<IPython.core.display.HTML object>"
      ]
     },
     "execution_count": 19,
     "metadata": {},
     "output_type": "execute_result"
    }
   ],
   "source": [
    "from IPython.core.display import HTML\n",
    "import pprint\n",
    "HTML(\"<pre style='white-space:pre;font-size:10px;line-height:14px'>{}</pre>\".format(\n",
    "    pprint.pformat(info1))\n",
    ")"
   ]
  },
  {
   "cell_type": "markdown",
   "metadata": {},
   "source": [
    "Intuitively, we can compare 2 entities using those info variables."
   ]
  },
  {
   "cell_type": "code",
   "execution_count": null,
   "metadata": {},
   "outputs": [
    {
     "name": "stdout",
     "output_type": "stream",
     "text": [
      "False\n",
      "True\n"
     ]
    }
   ],
   "source": [
    "print(info1 == info2)\n",
    "print(info1 == info3)"
   ]
  },
  {
   "cell_type": "markdown",
   "metadata": {},
   "source": [
    "But what if we wanted to check whether an entity belongs to a set of entities. In other words, how do we test whether an entity of a new file we've received has been added or remained the same? \n",
    "\n",
    "For this, we need to store the entities - still in the form of their information - to a set."
   ]
  },
  {
   "cell_type": "markdown",
   "metadata": {},
   "source": [
    "The cell below produces an error since a set must be made of immutable/hashable elements."
   ]
  },
  {
   "cell_type": "code",
   "execution_count": null,
   "metadata": {},
   "outputs": [
    {
     "ename": "TypeError",
     "evalue": "unhashable type: 'dict'",
     "output_type": "error",
     "traceback": [
      "\u001b[1;31m---------------------------------------------------------------------------\u001b[0m",
      "\u001b[1;31mTypeError\u001b[0m                                 Traceback (most recent call last)",
      "\u001b[1;32m<ipython-input-60-9a4a8bf8df91>\u001b[0m in \u001b[0;36m<module>\u001b[1;34m\u001b[0m\n\u001b[1;32m----> 1\u001b[1;33m \u001b[0ma_set1\u001b[0m \u001b[1;33m=\u001b[0m \u001b[1;33m{\u001b[0m\u001b[0minfo1\u001b[0m\u001b[1;33m,\u001b[0m \u001b[0minfo2\u001b[0m\u001b[1;33m,\u001b[0m \u001b[0minfo3\u001b[0m\u001b[1;33m}\u001b[0m\u001b[1;33m\u001b[0m\u001b[1;33m\u001b[0m\u001b[0m\n\u001b[0m\u001b[0;32m      2\u001b[0m \u001b[0ma_set2\u001b[0m \u001b[1;33m=\u001b[0m \u001b[1;33m{\u001b[0m\u001b[0minfo1\u001b[0m\u001b[1;33m,\u001b[0m \u001b[0minfo2\u001b[0m\u001b[1;33m}\u001b[0m\u001b[1;33m\u001b[0m\u001b[1;33m\u001b[0m\u001b[0m\n\u001b[0;32m      3\u001b[0m \u001b[0mprint\u001b[0m\u001b[1;33m(\u001b[0m\u001b[0ma_set1\u001b[0m \u001b[1;33m==\u001b[0m \u001b[0ma_set2\u001b[0m\u001b[1;33m)\u001b[0m\u001b[1;33m\u001b[0m\u001b[1;33m\u001b[0m\u001b[0m\n",
      "\u001b[1;31mTypeError\u001b[0m: unhashable type: 'dict'"
     ]
    }
   ],
   "source": [
    "a_set1 = {info1, info2, info3}\n",
    "a_set2 = {info1, info2}\n",
    "print(a_set1 == a_set2)"
   ]
  },
  {
   "cell_type": "markdown",
   "metadata": {},
   "source": [
    "In order to reach our goal, which is to create a set of the information of entity instances, we will have to transform the data in which the information of an entity is stored, and which is mutable for now (a dictionary), into an immutable one (a tuple for example). For this, we will use a newly created class that instantiates and immutable data container, and for which we can tailor the tolerance for squashing floating values into a hash number."
   ]
  },
  {
   "cell_type": "markdown",
   "metadata": {},
   "source": [
    "### Frozensets"
   ]
  },
  {
   "cell_type": "markdown",
   "metadata": {},
   "source": [
    "Alternatively, we could also store the information on an entity as embedded frozenset, which is the immutable version of the python set. "
   ]
  },
  {
   "cell_type": "code",
   "execution_count": null,
   "metadata": {},
   "outputs": [],
   "source": [
    "info1 = random_entity1.get_info(include_identifier=False, recursive=True, return_type=frozenset)\n",
    "info2 = random_entity2.get_info(include_identifier=False, recursive=True, return_type=frozenset)"
   ]
  },
  {
   "cell_type": "markdown",
   "metadata": {},
   "source": [
    "We could create a mini set of those embedded frozensets to test membership of the entities."
   ]
  },
  {
   "cell_type": "code",
   "execution_count": null,
   "metadata": {},
   "outputs": [
    {
     "name": "stdout",
     "output_type": "stream",
     "text": [
      "True\n"
     ]
    }
   ],
   "source": [
    "new_set = {info1, info2}\n",
    "print(info2 in new_set)"
   ]
  },
  {
   "cell_type": "markdown",
   "metadata": {},
   "source": [
    "Let's see some definitions about the mutable and hashable notions. "
   ]
  },
  {
   "cell_type": "markdown",
   "metadata": {},
   "source": [
    "### Definitions"
   ]
  },
  {
   "cell_type": "markdown",
   "metadata": {},
   "source": [
    "#### Mutable"
   ]
  },
  {
   "cell_type": "markdown",
   "metadata": {},
   "source": [
    "A data structure is mutable if it can be modified after its intitialization, such as a list, a set, a dictionary.\n",
    "Conversely, a tuple, an integer, a string, or a frozenset cannot be modified after initialization, so they are immutable data types."
   ]
  },
  {
   "cell_type": "markdown",
   "metadata": {},
   "source": [
    "#### Hashable"
   ]
  },
  {
   "cell_type": "markdown",
   "metadata": {},
   "source": [
    "A hashing function maps an immutable variable to an integer. This integer has to be unique and represents the input value in a more simpler form.\n",
    "We say that a variable is hashable if it can be hashed with the hash method of its underliying data type. For this, the object must be immutable.\n",
    "The input of the hashing function is unbounded and can be of any type as long as it is immutable. However, the output of the function is bounded (there is a finite number of hashes), which can lead to Hashing collision, happening when two different outputs share the same hash value. Consequently, the more the the input data, the more frequent an output hash risks to be and thus the higher the risk of Hashing collision. \n",
    "In the example (https://en.wikipedia.org/wiki/Hash_table#/media/File:Hash_table_3_1_1_0_1_0_0_SP.svg) below, Hash collision happens for the hash value `02`, which is produced by both `John Smith` and `Sandra Dee`."
   ]
  },
  {
   "cell_type": "markdown",
   "metadata": {},
   "source": [
    "![hash_table.png](../images/hash_table.png)"
   ]
  },
  {
   "cell_type": "markdown",
   "metadata": {},
   "source": [
    "### Comparing 2 IFC files"
   ]
  },
  {
   "cell_type": "markdown",
   "metadata": {},
   "source": [
    "In the context of comparing 2 files, if we look at the big picture we would say that we have to assess, for each entity  instance of the new file, whether it belongs to the old file or not. To do so, the entities of the old file have to be stored in a container, such as a set.\n",
    "Thus, the key operation of this tutorial is **membership testing**.\n",
    "\n",
    "As said earlier, the information variable of each entity instance of the original file have to be stored in a set. But each of this informaton variable comes in the form of a dictionary. However, a set, as the keys of a dictionary, needs its elements to be immutable so that they can be hashable.\n",
    "\n",
    "To do so, we create a new data container - a fuzzy dictionary - which will have, unlike the python dictionary, a hash method. To create this immutable/hashable data structure, we transform the input values coming in the form of a dictionary to a tuple, which is an immutable data structure which allows hashing."
   ]
  },
  {
   "cell_type": "markdown",
   "metadata": {},
   "source": [
    "### Methods to create an immutable data structure"
   ]
  },
  {
   "cell_type": "markdown",
   "metadata": {},
   "source": [
    "The first method enables to get the information of an IFC file. The second one transforms this information into an immutable data structure."
   ]
  },
  {
   "cell_type": "code",
   "execution_count": null,
   "metadata": {},
   "outputs": [],
   "source": [
    "def info_as_dictionary(e):\n",
    "    return e.get_info(recursive=True, include_identifier=False, ignore={\"GlobalId\", \"OwnerHistory\"})\n",
    "    \n",
    "def to_fuzzy(e):\n",
    "    return fuzzy_dict(info_as_dictionary(e), guid=e.GlobalId)"
   ]
  },
  {
   "cell_type": "markdown",
   "metadata": {},
   "source": [
    "### Make the dictionaries immutable"
   ]
  },
  {
   "cell_type": "markdown",
   "metadata": {},
   "source": [
    "Let's create the `fuzzy_dict` data container. "
   ]
  },
  {
   "cell_type": "code",
   "execution_count": null,
   "metadata": {},
   "outputs": [],
   "source": [
    "class fuzzy_dict(object):\n",
    "    def __init__(self, d, eps=1e-5, guid=None):\n",
    "        self.d = d\n",
    "        self.eps = eps\n",
    "        self.guid = guid\n",
    "        \n",
    "        mod = - int(round(math.log10(eps * 100)))\n",
    "        def c(v):\n",
    "            if isinstance(v, float):\n",
    "                # print \"round(%r, %r) = %r\" % (v, mod, round(v, mod))\n",
    "                return round(v, mod)\n",
    "            elif isinstance(v, dict):\n",
    "                return tuple(sorted((k,c(v)) for k, v in v.items()))\n",
    "            elif isinstance(v, (tuple, list)):\n",
    "                return type(v)(map(c, v))\n",
    "            else:\n",
    "                return v\n",
    "                \n",
    "        self.h = hash(c(self.d))\n",
    "        \n",
    "    def __hash__(self):\n",
    "        return self.h\n",
    "         \n",
    "    def __eq__(self, other):\n",
    "    \n",
    "        def eq(v1, v2):\n",
    "            if type(v1) != type(v2):\n",
    "                return False\n",
    "            if isinstance(v1, float):\n",
    "                if abs(v1 - v2) > self.eps: return False\n",
    "            elif isinstance(v1, dict):\n",
    "                if not (fuzzy_dict(v1, eps=self.eps) == fuzzy_dict(v2, eps=self.eps)): return False\n",
    "            elif isinstance(v1, (tuple, list)):\n",
    "                if len(v1) != len(v2): return False\n",
    "                for a, b in zip(v1, v2):\n",
    "                    if not eq(a, b): return False\n",
    "            else:\n",
    "                if v1 != v2: return False\n",
    "            return True\n",
    "        \n",
    "        if set(self.d.keys()) != set(other.d.keys()): return\n",
    "        \n",
    "        for v1, v2 in ((self.d[k], other.d[k]) for k in self.d):\n",
    "            if not eq(v1, v2): return False\n",
    "            \n",
    "        return True\n",
    "\n"
   ]
  },
  {
   "cell_type": "markdown",
   "metadata": {},
   "source": [
    "### Rounding the float values"
   ]
  },
  {
   "cell_type": "markdown",
   "metadata": {},
   "source": [
    "As it can be seen, the `eq` method uses a `mod` variable to define tolerance in the comparison. This `mod` is calculated on the basis of an epsilon value. "
   ]
  },
  {
   "cell_type": "markdown",
   "metadata": {},
   "source": [
    "Let\n",
    "* $int$ be a floor or ceiling function\n",
    "* $round$ be another floor or ceiling function\n",
    "* $log_{100}$ be the logarithm base 10\n",
    "* ${\\epsilon}$ be the tolerance to compare two floating point numbers"
   ]
  },
  {
   "cell_type": "markdown",
   "metadata": {},
   "source": [
    "The mod function can thus be expressed as\n",
    "\n",
    "> $$mod(\\epsilon)={\\mbox{- int}}\\left( round( log_{10}(100 \\epsilon ) \\right) $$\n"
   ]
  },
  {
   "cell_type": "markdown",
   "metadata": {},
   "source": [
    "We need to round floats to a number of digital places so that we're sure that `f(v +- eps) == f(v)` ."
   ]
  },
  {
   "cell_type": "markdown",
   "metadata": {},
   "source": [
    "### Create class to store the differences between 2 IFC files"
   ]
  },
  {
   "cell_type": "code",
   "execution_count": null,
   "metadata": {},
   "outputs": [
    {
     "name": "stdout",
     "output_type": "stream",
     "text": [
      "True\n",
      "False\n"
     ]
    }
   ],
   "source": [
    "info1_immut = to_fuzzy(random_entity1)\n",
    "info2_immut = to_fuzzy(random_entity2)\n",
    "info3_immut = info1_immut\n",
    "\n",
    "a_set1_immut = {info1_immut, info2_immut, info3_immut}\n",
    "a_set2_immut = {info1_immut}\n",
    "\n",
    "print(a_set1_immut == {info1_immut, info2_immut})\n",
    "print(a_set1_immut == a_set2_immut)"
   ]
  },
  {
   "cell_type": "markdown",
   "metadata": {},
   "source": [
    "### Create class to store the differences between 2 IFC files"
   ]
  },
  {
   "cell_type": "markdown",
   "metadata": {},
   "source": [
    "The most important processing happens in the `calculate_differences` method. In this method, we will assign each entity instance to one or several of these groups: \"unchanged\", \"added\", \"deleted\", via its GlobalId.\n",
    "\n",
    "First, we can loop over the instances of the new file and check whether it belongs to the old file. The \"belonging\" or rather membership is tested with the hash of the information of the entity instance. If it does belong to the set of the hashes of the old files instances information, then it means it has been unchanged. It it doesn't belong to the old file, it means it has been added. \n",
    "\n",
    "Similarly, we can loop through the instances of the old file and checks whether an entity instance is still there. If it doesn't, it means that it has been deleted or modified. \n",
    "\n",
    "The particularity is that an entity instance that we'll define by its GlobalId there (not its information) can be in both files. In that case, its GlobalId is saved in both the \"deleted\" and the \"added\" classes. It means that the information of the entity has been modified from the old file to the new one. So the GlobalId remains the same, but not the information, hence the membership in those 2 classes."
   ]
  },
  {
   "cell_type": "code",
   "execution_count": null,
   "metadata": {},
   "outputs": [],
   "source": [
    "class Difference(object):\n",
    "    def __init__(self,old,new):\n",
    "\n",
    "        self.old_file = ifcopenshell.open(old)\n",
    "        self.old_file_guids = set(i.GlobalId for i in self.old_file.by_type(\"IfcBuildingElement\"))\n",
    "        self.old_file_hashes = set()\n",
    "        for guid in self.old_file_guids:\n",
    "            entity = self.old_file[guid]\n",
    "            info = info_as_dictionary(entity)\n",
    "            immut_dict = to_fuzzy(entity)\n",
    "            self.old_file_hashes.add(immut_dict)\n",
    "\n",
    "\n",
    "        self.new_file = ifcopenshell.open(new)\n",
    "        self.new_file_guids = set(i.GlobalId for i in self.new_file.by_type(\"IfcBuildingElement\"))\n",
    "        self.new_file_hashes = set()\n",
    "        for guid in self.new_file_guids:\n",
    "            entity = self.new_file[guid]\n",
    "            info = info_as_dictionary(entity)\n",
    "            immut_dict = to_fuzzy(entity)\n",
    "            self.new_file_hashes.add(immut_dict)\n",
    "\n",
    "\n",
    "        self.added_in_new = set()\n",
    "        self.unchanged_in_new = set()\n",
    "        self.deleted_from_old = set()\n",
    "\n",
    "    def calculate_differences(self):\n",
    "        for entity_guid in self.new_file_guids:\n",
    "            entity = self.new_file[entity_guid]\n",
    "            if to_fuzzy(entity) in self.old_file_hashes:\n",
    "                #print('unchanged')\n",
    "                self.unchanged_in_new.add(entity_guid)\n",
    "            else:\n",
    "                #print('added')\n",
    "                self.added_in_new.add(entity_guid)\n",
    "\n",
    "        for entity_guid in self.old_file_guids:\n",
    "            entity = self.old_file[entity_guid]\n",
    "            if to_fuzzy(entity) not in self.new_file_hashes:\n",
    "                #print('deleted')\n",
    "                self.deleted_from_old.add(entity_guid)\n",
    "\n",
    "        return {'unchanged':self.unchanged_in_new,'added':self.added_in_new,'deleted':self.deleted_from_old}"
   ]
  },
  {
   "cell_type": "markdown",
   "metadata": {},
   "source": [
    "### Test the Difference class with 2 files"
   ]
  },
  {
   "cell_type": "markdown",
   "metadata": {},
   "source": [
    "In the following code blocks, we'll print and then display the result of the `calculate_differences` method. It enables to know if an entity instance as been added to the new file or if another one has been deleted from the old file. "
   ]
  },
  {
   "cell_type": "code",
   "execution_count": null,
   "metadata": {},
   "outputs": [
    {
     "name": "stdout",
     "output_type": "stream",
     "text": [
      "Unchanged:  354\n",
      "Added:  31\n",
      "Deleted:  27\n"
     ]
    }
   ],
   "source": [
    "import ifcopenshell\n",
    "import ifcopenshell.geom \n",
    "\n",
    "filename1 = \"./diff/261110ADT-Smiley-West-Project-14-10-2005.ifc\"\n",
    "filename2 = \"./diff/261110ADT-Smiley-West-5-Buildings-14-10-2005.ifc\"\n",
    "\n",
    "difference = Difference(filename1,filename2)\n",
    "differences = difference.calculate_differences()\n",
    "\n",
    "print(\"Unchanged: \", len(differences['unchanged']))\n",
    "print(\"Added: \", len(differences['added']))\n",
    "print(\"Deleted: \", len(differences['deleted']))\n",
    "\n",
    "present_in_both_files = set(differences['deleted'] & set(differences['added']))"
   ]
  },
  {
   "cell_type": "markdown",
   "metadata": {},
   "source": [
    "Using the python-occ viewer, we can display the entity instances of both files and color them according to the class they belong to. This code cannot be run in the notebook but feel free to test it in a regular python execution. "
   ]
  },
  {
   "cell_type": "code",
   "execution_count": null,
   "metadata": {},
   "outputs": [],
   "source": [
    "import OCC \n",
    "import OCC.BRepTools\n",
    "\n",
    "s = ifcopenshell.geom.settings()\n",
    "s.set(s.USE_PYTHON_OPENCASCADE,True)\n",
    "viewer = ifcopenshell.geom.utils.initialize_display()\n",
    "viewer.set_bg_gradient_color(255, 255, 255, 255, 255, 255)\n",
    "\n",
    "\n",
    "\n",
    "of = set(i for i in difference.old_file_guids)\n",
    "nf = set(i for i in difference.new_file_guids)\n",
    "\n",
    "of.update(nf)\n",
    "\n",
    "\n",
    "for guid in of:\n",
    "    entity = None\n",
    "\n",
    "    if guid in differences['added']:\n",
    "        clr = (0.239, 0.839, 0.372)\n",
    "        entity = difference.new_file[guid]\n",
    "\n",
    "    if guid in differences['unchanged']:\n",
    "        clr = (0.105,0.196,1)\n",
    "        entity = difference.new_file[guid]\n",
    "\n",
    "\n",
    "    if guid in differences['deleted']:\n",
    "        clr = (0.980, 0.419, 0.474)\n",
    "        entity = difference.old_file[guid]\n",
    "\n",
    "    if guid in differences['added'] and guid in differences['deleted']:\n",
    "        clr = (1, 0.4, 0)\n",
    "        entity = difference.new_file[guid]\n",
    "\n",
    "\n",
    "\n",
    "    if entity:\n",
    "        shape = ifcopenshell.geom.create_shape(s,entity)\n",
    "\n",
    "        display = ifcopenshell.geom.utils.display_shape(shape,clr=clr)\n",
    "\n",
    "        if guid in differences['unchanged']:\n",
    "            ifcopenshell.geom.utils.set_shape_transparency(display,0.9)\n",
    "\n",
    "    viewer.FitAll()\n",
    "\n",
    "\n",
    "\n",
    "ifcopenshell.geom.utils.main_loop()\n"
   ]
  },
  {
   "cell_type": "markdown",
   "metadata": {},
   "source": [
    "Let's visualize the changes made on a minimalistic example. "
   ]
  },
  {
   "attachments": {
    "image.png": {
     "image/png": "[encoded data removed]"
    }
   },
   "cell_type": "markdown",
   "metadata": {},
   "source": [
    "![image.png](attachment:image.png)"
   ]
  },
  {
   "cell_type": "markdown",
   "metadata": {},
   "source": [
    "Let's add some walls and display the additions."
   ]
  },
  {
   "cell_type": "markdown",
   "metadata": {},
   "source": [
    "![added.jpg](../images/added.jpg)"
   ]
  },
  {
   "cell_type": "markdown",
   "metadata": {},
   "source": [
    "Let's now delete the one this newly added wall, and also one of the windows."
   ]
  },
  {
   "cell_type": "markdown",
   "metadata": {},
   "source": [
    "![deleted.jpg](../images/deleted.jpg)"
   ]
  },
  {
   "cell_type": "markdown",
   "metadata": {},
   "source": [
    "Now, let's make some changes regarding a wall position and a door position."
   ]
  },
  {
   "cell_type": "markdown",
   "metadata": {},
   "source": [
    "![modified.jpg](../images/modified.jpg)"
   ]
  },
  {
   "cell_type": "markdown",
   "metadata": {},
   "source": [
    "Finally, if we can see the real difference between the original file and the last version (after adding, deleting, and modifying)"
   ]
  },
  {
   "cell_type": "markdown",
   "metadata": {},
   "source": [
    "![all_changes.jpg](../images/all_changes.jpg)"
   ]
  },
  {
   "cell_type": "markdown",
   "metadata": {},
   "source": [
    "### Further work"
   ]
  },
  {
   "cell_type": "markdown",
   "metadata": {},
   "source": [
    "For future work, we'll see how to produce more detailed visualisations and go back to the history of the changes known by the biggest file of this tutorial. "
   ]
  }
 ],
 "metadata": {
  "kernelspec": {
   "display_name": "Python 3",
   "language": "python",
   "name": "python3"
  },
  "language_info": {
   "codemirror_mode": {
    "name": "ipython",
    "version": 3
   },
   "file_extension": ".py",
   "mimetype": "text/x-python",
   "name": "python",
   "nbconvert_exporter": "python",
   "pygments_lexer": "ipython3",
   "version": "3.9.6"
  },
  "nikola": {
   "author": "Johan Luttun",
   "category": "",
   "date": "2020-09-28 14:56:00 UTC+02:00",
   "description": "",
   "link": "",
   "slug": "calculate-differences-of-ifc-files-with-hashing",
   "tags": "",
   "title": "Calculate Differences of IFC files with Hashing",
   "type": "text"
  }
 },
 "nbformat": 4,
 "nbformat_minor": 2
}
